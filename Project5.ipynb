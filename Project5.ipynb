{
 "cells": [
  {
   "cell_type": "markdown",
   "metadata": {},
   "source": [
    "# Power Outages\n",
    "* **See the main project notebook for instructions to be sure you satisfy the rubric!**\n",
    "* See Project 03 for information on the dataset.\n",
    "* A few example prediction questions to pursue are listed below. However, don't limit yourself to them!\n",
    "    * Predict the severity (number of customers, duration, or demand loss) of a major power outage.\n",
    "    * Predict the cause of a major power outage.\n",
    "    * Predict the number and/or severity of major power outages in the year 2020.\n",
    "    * Predict the electricity consumption of an area.\n",
    "\n",
    "Be careful to justify what information you would know at the \"time of prediction\" and train your model using only those features."
   ]
  },
  {
   "cell_type": "markdown",
   "metadata": {},
   "source": [
    "# Summary of Findings\n",
    "\n",
    "\n",
    "### Introduction\n",
    "The dataset that we are using recorded the major electricity outage that occured in the US continent with different variables that might be related to the electricity outage and effects that brought with it. There are around 1500 cases of the electricity outage between 2000 and 2016. The main goal of our project is to predict the cause of outage  base on the given dataset, which is a Classification question. Our target variable is 'CAUSE.CATEGORY' and it has already been catergorized into it's won unique values: 'severe weather','interntional attack','system operability disruption', 'public appreal','equipment failure', 'fuel supply emergency','islanding'.\n",
    "\n",
    "### Baseline Model\n",
    "The total number of features is 5. Three of them will be nomial features. The total number of ordinal feature is one. The total number of quantative will be one. We will be using 'CLIMATE.CATEGORY', 'MONTH','OUTAGE.DURATION','CLIMATE.REGION', 'ANOMALY.LEVEL' to predict the CAUSE.CATEGORY of each outage. 'CLIMATE.CATEGORY', 'MONTH','CLIMATE.REGION' are nomial feature. 'ANOMALY.LEVEL' will be ordinal feature. The 'OUTAGE.DURATION' will be quatitive feature. The classifier that we use is decision tree classiier. We decide to use the accuracy score to be the metric of our prediction since we only want to the accuracy of our prediction on the cause of the outage and the weights for inaccurate is the same of accurate. The accuracy score that we got is less than 0.6. it isn't evry accurate, so we decide to add more features into our prediction. \n",
    "\n",
    "### Final Model\n",
    "We were wondering is the climate region is related with outage duration. so we plot it out, and it seems like the north of the country seems to have longer duration. Normal and cold climates are the major climate for these region. Since the north region of the counry seems to have longer average duration, we decide to standardadize our duration by the climate region by using StdScalerByGroup. We also decide to treat the duration as a ordinal feature since there are several causes that are more likely to cause long duration. We realized that we are have to many inrelavant features, so we dropped the Month. We are still using decision tree classifier. We select the best parameter of the grid search cv {'classifier__max_depth': 7, 'classifier__max_leaf_nodes': 10}. This bring our accuracy score to about 0.65.  \n",
    "\n",
    "### Fairness Evaluation\n",
    "TODO"
   ]
  },
  {
   "cell_type": "markdown",
   "metadata": {},
   "source": [
    "# Code"
   ]
  },
  {
   "cell_type": "code",
   "execution_count": 295,
   "metadata": {},
   "outputs": [],
   "source": [
    "import matplotlib.pyplot as plt\n",
    "import numpy as np\n",
    "import os\n",
    "import pandas as pd\n",
    "import seaborn as sns\n",
    "import pandas as pd\n",
    "import numpy as np\n",
    "import os\n",
    "import seaborn as sns\n",
    "from sklearn.preprocessing import OrdinalEncoder\n",
    "from sklearn.linear_model import LinearRegression\n",
    "from sklearn.preprocessing import FunctionTransformer\n",
    "from sklearn.preprocessing import OneHotEncoder\n",
    "from sklearn.pipeline import Pipeline\n",
    "from sklearn.compose import ColumnTransformer\n",
    "from sklearn.ensemble import RandomForestClassifier\n",
    "from sklearn.linear_model import LinearRegression\n",
    "from sklearn.compose import ColumnTransformer\n",
    "from sklearn.preprocessing import StandardScaler\n",
    "from sklearn.tree import DecisionTreeClassifier\n",
    "from sklearn.pipeline import Pipeline\n",
    "from sklearn.preprocessing import OneHotEncoder\n",
    "from sklearn.tree import DecisionTreeRegressor\n",
    "from sklearn.model_selection import train_test_split\n",
    "from sklearn.metrics import mean_squared_error as mse\n",
    "from sklearn import metrics\n",
    "%matplotlib inline\n",
    "%config InlineBackend.figure_format = 'retina'  # Higher resolution figures"
   ]
  },
  {
   "cell_type": "code",
   "execution_count": 296,
   "metadata": {},
   "outputs": [],
   "source": [
    "##Data cleaning \n",
    "df = pd.read_excel('outage.xlsx')\n",
    "columns = np.array(df.iloc[4])\n",
    "measurement = np.array(df.iloc[5])\n",
    "df = df.drop(df.index[[0,1,2,3,4,5]]).set_axis(columns, axis=1, inplace=False)\n",
    "x = df['OUTAGE.START.DATE'].fillna('x').astype(str).str.replace('00:00:00','').replace('x','1770-1-1')\n",
    "y = df['OUTAGE.START.TIME'].fillna('x').astype(str).str.replace('00:00:00','').replace('x','01:01:01')\n",
    "df['OUTAGE.START'] = pd.to_datetime(x + ' ' + y) \n",
    "z = df['OUTAGE.RESTORATION.DATE'].fillna('x').astype(str).str.replace('00:00:00','').replace('x','1770-1-1')\n",
    "h = df['OUTAGE.RESTORATION.TIME'].fillna('x').astype(str).str.replace('00:00:00','').replace('x','01:01:01')\n",
    "df['OUTAGE.RESTORATION'] = pd.to_datetime(z + ' ' + h) \n",
    "df = df.drop(columns = ['OUTAGE.START.DATE','OUTAGE.START.TIME','OUTAGE.RESTORATION.DATE','OUTAGE.RESTORATION.TIME'])\n",
    "df['OUTAGE.START'] = df['OUTAGE.START'].replace(pd.to_datetime('1770-01-01 01:01:01'),np.nan)\n",
    "df['OUTAGE.RESTORATION'] = df['OUTAGE.RESTORATION'].replace(pd.to_datetime('1770-01-01 01:01:01'),np.nan)\n",
    "df = df.reset_index().drop(columns = ['index'])\n",
    "df['OUTAGE.DURATION'] = df['OUTAGE.DURATION'].agg(lambda x : x.replace(0,np.nan))\n"
   ]
  },
  {
   "cell_type": "code",
   "execution_count": 297,
   "metadata": {},
   "outputs": [
    {
     "data": {
      "text/html": [
       "<div>\n",
       "<style scoped>\n",
       "    .dataframe tbody tr th:only-of-type {\n",
       "        vertical-align: middle;\n",
       "    }\n",
       "\n",
       "    .dataframe tbody tr th {\n",
       "        vertical-align: top;\n",
       "    }\n",
       "\n",
       "    .dataframe thead th {\n",
       "        text-align: right;\n",
       "    }\n",
       "</style>\n",
       "<table border=\"1\" class=\"dataframe\">\n",
       "  <thead>\n",
       "    <tr style=\"text-align: right;\">\n",
       "      <th></th>\n",
       "      <th>variables</th>\n",
       "      <th>OBS</th>\n",
       "      <th>YEAR</th>\n",
       "      <th>MONTH</th>\n",
       "      <th>U.S._STATE</th>\n",
       "      <th>POSTAL.CODE</th>\n",
       "      <th>NERC.REGION</th>\n",
       "      <th>CLIMATE.REGION</th>\n",
       "      <th>ANOMALY.LEVEL</th>\n",
       "      <th>CLIMATE.CATEGORY</th>\n",
       "      <th>...</th>\n",
       "      <th>POPDEN_URBAN</th>\n",
       "      <th>POPDEN_UC</th>\n",
       "      <th>POPDEN_RURAL</th>\n",
       "      <th>AREAPCT_URBAN</th>\n",
       "      <th>AREAPCT_UC</th>\n",
       "      <th>PCT_LAND</th>\n",
       "      <th>PCT_WATER_TOT</th>\n",
       "      <th>PCT_WATER_INLAND</th>\n",
       "      <th>OUTAGE.START</th>\n",
       "      <th>OUTAGE.RESTORATION</th>\n",
       "    </tr>\n",
       "  </thead>\n",
       "  <tbody>\n",
       "    <tr>\n",
       "      <th>0</th>\n",
       "      <td>NaN</td>\n",
       "      <td>1</td>\n",
       "      <td>2011</td>\n",
       "      <td>7</td>\n",
       "      <td>Minnesota</td>\n",
       "      <td>MN</td>\n",
       "      <td>MRO</td>\n",
       "      <td>East North Central</td>\n",
       "      <td>-0.3</td>\n",
       "      <td>normal</td>\n",
       "      <td>...</td>\n",
       "      <td>2279</td>\n",
       "      <td>1700.5</td>\n",
       "      <td>18.2</td>\n",
       "      <td>2.14</td>\n",
       "      <td>0.6</td>\n",
       "      <td>91.592666</td>\n",
       "      <td>8.407334</td>\n",
       "      <td>5.478743</td>\n",
       "      <td>2011-07-01 17:00:00</td>\n",
       "      <td>2011-07-03 20:00:00</td>\n",
       "    </tr>\n",
       "    <tr>\n",
       "      <th>1</th>\n",
       "      <td>NaN</td>\n",
       "      <td>2</td>\n",
       "      <td>2014</td>\n",
       "      <td>5</td>\n",
       "      <td>Minnesota</td>\n",
       "      <td>MN</td>\n",
       "      <td>MRO</td>\n",
       "      <td>East North Central</td>\n",
       "      <td>-0.1</td>\n",
       "      <td>normal</td>\n",
       "      <td>...</td>\n",
       "      <td>2279</td>\n",
       "      <td>1700.5</td>\n",
       "      <td>18.2</td>\n",
       "      <td>2.14</td>\n",
       "      <td>0.6</td>\n",
       "      <td>91.592666</td>\n",
       "      <td>8.407334</td>\n",
       "      <td>5.478743</td>\n",
       "      <td>2014-05-11 18:38:00</td>\n",
       "      <td>2014-05-11 18:39:00</td>\n",
       "    </tr>\n",
       "    <tr>\n",
       "      <th>2</th>\n",
       "      <td>NaN</td>\n",
       "      <td>3</td>\n",
       "      <td>2010</td>\n",
       "      <td>10</td>\n",
       "      <td>Minnesota</td>\n",
       "      <td>MN</td>\n",
       "      <td>MRO</td>\n",
       "      <td>East North Central</td>\n",
       "      <td>-1.5</td>\n",
       "      <td>cold</td>\n",
       "      <td>...</td>\n",
       "      <td>2279</td>\n",
       "      <td>1700.5</td>\n",
       "      <td>18.2</td>\n",
       "      <td>2.14</td>\n",
       "      <td>0.6</td>\n",
       "      <td>91.592666</td>\n",
       "      <td>8.407334</td>\n",
       "      <td>5.478743</td>\n",
       "      <td>2010-10-26 20:00:00</td>\n",
       "      <td>2010-10-28 22:00:00</td>\n",
       "    </tr>\n",
       "    <tr>\n",
       "      <th>3</th>\n",
       "      <td>NaN</td>\n",
       "      <td>4</td>\n",
       "      <td>2012</td>\n",
       "      <td>6</td>\n",
       "      <td>Minnesota</td>\n",
       "      <td>MN</td>\n",
       "      <td>MRO</td>\n",
       "      <td>East North Central</td>\n",
       "      <td>-0.1</td>\n",
       "      <td>normal</td>\n",
       "      <td>...</td>\n",
       "      <td>2279</td>\n",
       "      <td>1700.5</td>\n",
       "      <td>18.2</td>\n",
       "      <td>2.14</td>\n",
       "      <td>0.6</td>\n",
       "      <td>91.592666</td>\n",
       "      <td>8.407334</td>\n",
       "      <td>5.478743</td>\n",
       "      <td>2012-06-19 04:30:00</td>\n",
       "      <td>2012-06-20 23:00:00</td>\n",
       "    </tr>\n",
       "    <tr>\n",
       "      <th>4</th>\n",
       "      <td>NaN</td>\n",
       "      <td>5</td>\n",
       "      <td>2015</td>\n",
       "      <td>7</td>\n",
       "      <td>Minnesota</td>\n",
       "      <td>MN</td>\n",
       "      <td>MRO</td>\n",
       "      <td>East North Central</td>\n",
       "      <td>1.2</td>\n",
       "      <td>warm</td>\n",
       "      <td>...</td>\n",
       "      <td>2279</td>\n",
       "      <td>1700.5</td>\n",
       "      <td>18.2</td>\n",
       "      <td>2.14</td>\n",
       "      <td>0.6</td>\n",
       "      <td>91.592666</td>\n",
       "      <td>8.407334</td>\n",
       "      <td>5.478743</td>\n",
       "      <td>2015-07-18 02:00:00</td>\n",
       "      <td>2015-07-19 07:00:00</td>\n",
       "    </tr>\n",
       "  </tbody>\n",
       "</table>\n",
       "<p>5 rows × 55 columns</p>\n",
       "</div>"
      ],
      "text/plain": [
       "  variables OBS  YEAR MONTH U.S._STATE POSTAL.CODE NERC.REGION  \\\n",
       "0       NaN   1  2011     7  Minnesota          MN         MRO   \n",
       "1       NaN   2  2014     5  Minnesota          MN         MRO   \n",
       "2       NaN   3  2010    10  Minnesota          MN         MRO   \n",
       "3       NaN   4  2012     6  Minnesota          MN         MRO   \n",
       "4       NaN   5  2015     7  Minnesota          MN         MRO   \n",
       "\n",
       "       CLIMATE.REGION ANOMALY.LEVEL CLIMATE.CATEGORY  ... POPDEN_URBAN  \\\n",
       "0  East North Central          -0.3           normal  ...         2279   \n",
       "1  East North Central          -0.1           normal  ...         2279   \n",
       "2  East North Central          -1.5             cold  ...         2279   \n",
       "3  East North Central          -0.1           normal  ...         2279   \n",
       "4  East North Central           1.2             warm  ...         2279   \n",
       "\n",
       "  POPDEN_UC POPDEN_RURAL  AREAPCT_URBAN AREAPCT_UC   PCT_LAND PCT_WATER_TOT  \\\n",
       "0    1700.5         18.2           2.14        0.6  91.592666      8.407334   \n",
       "1    1700.5         18.2           2.14        0.6  91.592666      8.407334   \n",
       "2    1700.5         18.2           2.14        0.6  91.592666      8.407334   \n",
       "3    1700.5         18.2           2.14        0.6  91.592666      8.407334   \n",
       "4    1700.5         18.2           2.14        0.6  91.592666      8.407334   \n",
       "\n",
       "  PCT_WATER_INLAND        OUTAGE.START  OUTAGE.RESTORATION  \n",
       "0         5.478743 2011-07-01 17:00:00 2011-07-03 20:00:00  \n",
       "1         5.478743 2014-05-11 18:38:00 2014-05-11 18:39:00  \n",
       "2         5.478743 2010-10-26 20:00:00 2010-10-28 22:00:00  \n",
       "3         5.478743 2012-06-19 04:30:00 2012-06-20 23:00:00  \n",
       "4         5.478743 2015-07-18 02:00:00 2015-07-19 07:00:00  \n",
       "\n",
       "[5 rows x 55 columns]"
      ]
     },
     "execution_count": 297,
     "metadata": {},
     "output_type": "execute_result"
    }
   ],
   "source": [
    "# checking null values\n",
    "\n",
    "df.isna().sum(axis = 0)\n",
    "df.head()"
   ]
  },
  {
   "cell_type": "code",
   "execution_count": 276,
   "metadata": {},
   "outputs": [
    {
     "data": {
      "text/plain": [
       "<AxesSubplot:xlabel='OUTAGE.DURATION', ylabel='Count'>"
      ]
     },
     "execution_count": 276,
     "metadata": {},
     "output_type": "execute_result"
    },
    {
     "data": {
      "image/png": "[encoded data removed]",
      "text/plain": [
       "<Figure size 1008x360 with 1 Axes>"
      ]
     },
     "metadata": {
      "image/png": {
       "height": 316,
       "width": 835
      },
      "needs_background": "light"
     },
     "output_type": "display_data"
    }
   ],
   "source": [
    "plt.figure(figsize = (14,5))\n",
    "sns.histplot(df['OUTAGE.DURATION'])"
   ]
  },
  {
   "cell_type": "code",
   "execution_count": 277,
   "metadata": {},
   "outputs": [
    {
     "data": {
      "text/plain": [
       "<AxesSubplot:xlabel='CAUSE.CATEGORY', ylabel='OUTAGE.DURATION'>"
      ]
     },
     "execution_count": 277,
     "metadata": {},
     "output_type": "execute_result"
    },
    {
     "data": {
      "image/png": "[encoded data removed]",
      "text/plain": [
       "<Figure size 432x288 with 1 Axes>"
      ]
     },
     "metadata": {
      "image/png": {
       "height": 261,
       "width": 415
      },
      "needs_background": "light"
     },
     "output_type": "display_data"
    }
   ],
   "source": [
    "df.loc[:,['OUTAGE.DURATION','CAUSE.CATEGORY']].plot.scatter(x = 'CAUSE.CATEGORY',y = 'OUTAGE.DURATION')"
   ]
  },
  {
   "cell_type": "code",
   "execution_count": 278,
   "metadata": {},
   "outputs": [
    {
     "data": {
      "text/plain": [
       "<AxesSubplot:xlabel='CLIMATE.REGION'>"
      ]
     },
     "execution_count": 278,
     "metadata": {},
     "output_type": "execute_result"
    },
    {
     "data": {
      "image/png": "[encoded data removed]",
      "text/plain": [
       "<Figure size 432x288 with 1 Axes>"
      ]
     },
     "metadata": {
      "image/png": {
       "height": 261,
       "width": 414
      },
      "needs_background": "light"
     },
     "output_type": "display_data"
    }
   ],
   "source": [
    "df.groupby('CLIMATE.REGION')['OUTAGE.DURATION'].mean().plot()"
   ]
  },
  {
   "cell_type": "code",
   "execution_count": 279,
   "metadata": {},
   "outputs": [
    {
     "data": {
      "text/plain": [
       "<AxesSubplot:xlabel='CLIMATE.REGION'>"
      ]
     },
     "execution_count": 279,
     "metadata": {},
     "output_type": "execute_result"
    },
    {
     "data": {
      "image/png": "[encoded data removed]",
      "text/plain": [
       "<Figure size 432x288 with 1 Axes>"
      ]
     },
     "metadata": {
      "image/png": {
       "height": 348,
       "width": 394
      },
      "needs_background": "light"
     },
     "output_type": "display_data"
    }
   ],
   "source": [
    "pi = df.pivot_table(\n",
    "    index = 'CLIMATE.REGION',\n",
    "    columns = 'CLIMATE.CATEGORY', \n",
    "    values = 'OUTAGE.DURATION',\n",
    "    aggfunc = 'sum'\n",
    ")\n",
    "pi.plot(kind = 'bar')"
   ]
  },
  {
   "cell_type": "code",
   "execution_count": 280,
   "metadata": {},
   "outputs": [
    {
     "data": {
      "text/html": [
       "<div>\n",
       "<style scoped>\n",
       "    .dataframe tbody tr th:only-of-type {\n",
       "        vertical-align: middle;\n",
       "    }\n",
       "\n",
       "    .dataframe tbody tr th {\n",
       "        vertical-align: top;\n",
       "    }\n",
       "\n",
       "    .dataframe thead th {\n",
       "        text-align: right;\n",
       "    }\n",
       "</style>\n",
       "<table border=\"1\" class=\"dataframe\">\n",
       "  <thead>\n",
       "    <tr style=\"text-align: right;\">\n",
       "      <th></th>\n",
       "      <th>variables</th>\n",
       "      <th>OBS</th>\n",
       "      <th>YEAR</th>\n",
       "      <th>MONTH</th>\n",
       "      <th>U.S._STATE</th>\n",
       "      <th>POSTAL.CODE</th>\n",
       "      <th>NERC.REGION</th>\n",
       "      <th>CLIMATE.REGION</th>\n",
       "      <th>ANOMALY.LEVEL</th>\n",
       "      <th>CLIMATE.CATEGORY</th>\n",
       "      <th>...</th>\n",
       "      <th>POPDEN_URBAN</th>\n",
       "      <th>POPDEN_UC</th>\n",
       "      <th>POPDEN_RURAL</th>\n",
       "      <th>AREAPCT_URBAN</th>\n",
       "      <th>AREAPCT_UC</th>\n",
       "      <th>PCT_LAND</th>\n",
       "      <th>PCT_WATER_TOT</th>\n",
       "      <th>PCT_WATER_INLAND</th>\n",
       "      <th>OUTAGE.START</th>\n",
       "      <th>OUTAGE.RESTORATION</th>\n",
       "    </tr>\n",
       "  </thead>\n",
       "  <tbody>\n",
       "    <tr>\n",
       "      <th>0</th>\n",
       "      <td>NaN</td>\n",
       "      <td>1</td>\n",
       "      <td>2011</td>\n",
       "      <td>7</td>\n",
       "      <td>Minnesota</td>\n",
       "      <td>MN</td>\n",
       "      <td>MRO</td>\n",
       "      <td>East North Central</td>\n",
       "      <td>-0.3</td>\n",
       "      <td>normal</td>\n",
       "      <td>...</td>\n",
       "      <td>2279</td>\n",
       "      <td>1700.5</td>\n",
       "      <td>18.2</td>\n",
       "      <td>2.14</td>\n",
       "      <td>0.6</td>\n",
       "      <td>91.592666</td>\n",
       "      <td>8.407334</td>\n",
       "      <td>5.478743</td>\n",
       "      <td>2011-07-01 17:00:00</td>\n",
       "      <td>2011-07-03 20:00:00</td>\n",
       "    </tr>\n",
       "    <tr>\n",
       "      <th>1</th>\n",
       "      <td>NaN</td>\n",
       "      <td>2</td>\n",
       "      <td>2014</td>\n",
       "      <td>5</td>\n",
       "      <td>Minnesota</td>\n",
       "      <td>MN</td>\n",
       "      <td>MRO</td>\n",
       "      <td>East North Central</td>\n",
       "      <td>-0.1</td>\n",
       "      <td>normal</td>\n",
       "      <td>...</td>\n",
       "      <td>2279</td>\n",
       "      <td>1700.5</td>\n",
       "      <td>18.2</td>\n",
       "      <td>2.14</td>\n",
       "      <td>0.6</td>\n",
       "      <td>91.592666</td>\n",
       "      <td>8.407334</td>\n",
       "      <td>5.478743</td>\n",
       "      <td>2014-05-11 18:38:00</td>\n",
       "      <td>2014-05-11 18:39:00</td>\n",
       "    </tr>\n",
       "    <tr>\n",
       "      <th>2</th>\n",
       "      <td>NaN</td>\n",
       "      <td>3</td>\n",
       "      <td>2010</td>\n",
       "      <td>10</td>\n",
       "      <td>Minnesota</td>\n",
       "      <td>MN</td>\n",
       "      <td>MRO</td>\n",
       "      <td>East North Central</td>\n",
       "      <td>-1.5</td>\n",
       "      <td>cold</td>\n",
       "      <td>...</td>\n",
       "      <td>2279</td>\n",
       "      <td>1700.5</td>\n",
       "      <td>18.2</td>\n",
       "      <td>2.14</td>\n",
       "      <td>0.6</td>\n",
       "      <td>91.592666</td>\n",
       "      <td>8.407334</td>\n",
       "      <td>5.478743</td>\n",
       "      <td>2010-10-26 20:00:00</td>\n",
       "      <td>2010-10-28 22:00:00</td>\n",
       "    </tr>\n",
       "    <tr>\n",
       "      <th>3</th>\n",
       "      <td>NaN</td>\n",
       "      <td>4</td>\n",
       "      <td>2012</td>\n",
       "      <td>6</td>\n",
       "      <td>Minnesota</td>\n",
       "      <td>MN</td>\n",
       "      <td>MRO</td>\n",
       "      <td>East North Central</td>\n",
       "      <td>-0.1</td>\n",
       "      <td>normal</td>\n",
       "      <td>...</td>\n",
       "      <td>2279</td>\n",
       "      <td>1700.5</td>\n",
       "      <td>18.2</td>\n",
       "      <td>2.14</td>\n",
       "      <td>0.6</td>\n",
       "      <td>91.592666</td>\n",
       "      <td>8.407334</td>\n",
       "      <td>5.478743</td>\n",
       "      <td>2012-06-19 04:30:00</td>\n",
       "      <td>2012-06-20 23:00:00</td>\n",
       "    </tr>\n",
       "    <tr>\n",
       "      <th>4</th>\n",
       "      <td>NaN</td>\n",
       "      <td>5</td>\n",
       "      <td>2015</td>\n",
       "      <td>7</td>\n",
       "      <td>Minnesota</td>\n",
       "      <td>MN</td>\n",
       "      <td>MRO</td>\n",
       "      <td>East North Central</td>\n",
       "      <td>1.2</td>\n",
       "      <td>warm</td>\n",
       "      <td>...</td>\n",
       "      <td>2279</td>\n",
       "      <td>1700.5</td>\n",
       "      <td>18.2</td>\n",
       "      <td>2.14</td>\n",
       "      <td>0.6</td>\n",
       "      <td>91.592666</td>\n",
       "      <td>8.407334</td>\n",
       "      <td>5.478743</td>\n",
       "      <td>2015-07-18 02:00:00</td>\n",
       "      <td>2015-07-19 07:00:00</td>\n",
       "    </tr>\n",
       "  </tbody>\n",
       "</table>\n",
       "<p>5 rows × 55 columns</p>\n",
       "</div>"
      ],
      "text/plain": [
       "  variables OBS  YEAR MONTH U.S._STATE POSTAL.CODE NERC.REGION  \\\n",
       "0       NaN   1  2011     7  Minnesota          MN         MRO   \n",
       "1       NaN   2  2014     5  Minnesota          MN         MRO   \n",
       "2       NaN   3  2010    10  Minnesota          MN         MRO   \n",
       "3       NaN   4  2012     6  Minnesota          MN         MRO   \n",
       "4       NaN   5  2015     7  Minnesota          MN         MRO   \n",
       "\n",
       "       CLIMATE.REGION ANOMALY.LEVEL CLIMATE.CATEGORY  ... POPDEN_URBAN  \\\n",
       "0  East North Central          -0.3           normal  ...         2279   \n",
       "1  East North Central          -0.1           normal  ...         2279   \n",
       "2  East North Central          -1.5             cold  ...         2279   \n",
       "3  East North Central          -0.1           normal  ...         2279   \n",
       "4  East North Central           1.2             warm  ...         2279   \n",
       "\n",
       "  POPDEN_UC POPDEN_RURAL  AREAPCT_URBAN AREAPCT_UC   PCT_LAND PCT_WATER_TOT  \\\n",
       "0    1700.5         18.2           2.14        0.6  91.592666      8.407334   \n",
       "1    1700.5         18.2           2.14        0.6  91.592666      8.407334   \n",
       "2    1700.5         18.2           2.14        0.6  91.592666      8.407334   \n",
       "3    1700.5         18.2           2.14        0.6  91.592666      8.407334   \n",
       "4    1700.5         18.2           2.14        0.6  91.592666      8.407334   \n",
       "\n",
       "  PCT_WATER_INLAND        OUTAGE.START  OUTAGE.RESTORATION  \n",
       "0         5.478743 2011-07-01 17:00:00 2011-07-03 20:00:00  \n",
       "1         5.478743 2014-05-11 18:38:00 2014-05-11 18:39:00  \n",
       "2         5.478743 2010-10-26 20:00:00 2010-10-28 22:00:00  \n",
       "3         5.478743 2012-06-19 04:30:00 2012-06-20 23:00:00  \n",
       "4         5.478743 2015-07-18 02:00:00 2015-07-19 07:00:00  \n",
       "\n",
       "[5 rows x 55 columns]"
      ]
     },
     "execution_count": 280,
     "metadata": {},
     "output_type": "execute_result"
    }
   ],
   "source": [
    "df = df[df['OUTAGE.DURATION'].notna()]\n",
    "df.head()"
   ]
  },
  {
   "cell_type": "code",
   "execution_count": 172,
   "metadata": {},
   "outputs": [],
   "source": [
    "# df.loc[:,['OUTAGE.DURATION','CLIMATE.REGION','ANOMALY.LEVEL','MONTH']]"
   ]
  },
  {
   "cell_type": "markdown",
   "metadata": {},
   "source": [
    "### Baseline Model"
   ]
  },
  {
   "cell_type": "code",
   "execution_count": 533,
   "metadata": {},
   "outputs": [],
   "source": [
    "\n",
    "indx = df.loc[:,['OUTAGE.DURATION','CLIMATE.REGION','ANOMALY.LEVEL','MONTH','CLIMATE.CATEGORY']].dropna(axis =0).index\n"
   ]
  },
  {
   "cell_type": "code",
   "execution_count": 534,
   "metadata": {},
   "outputs": [],
   "source": [
    "## split the data into training and testing \n",
    "X = df.loc[:,['OUTAGE.DURATION','CLIMATE.REGION','ANOMALY.LEVEL','MONTH','CLIMATE.CATEGORY']].dropna()\n",
    "y = df.loc[indx,'CAUSE.CATEGORY']\n",
    "X_train, X_test, y_train, y_test = train_test_split(X,y,test_size = 0.3)\n"
   ]
  },
  {
   "cell_type": "code",
   "execution_count": 535,
   "metadata": {},
   "outputs": [],
   "source": [
    "## transform the columns \n",
    "column_tranformer = ColumnTransformer(\n",
    "    transformers = [\n",
    "        ('std',StandardScaler(), ['OUTAGE.DURATION','ANOMALY.LEVEL']),\n",
    "        ('ohh',OneHotEncoder(),[ 'CLIMATE.CATEGORY','CLIMATE.REGION','MONTH']),\n",
    "         \n",
    "    ], remainder = 'passthrough'\n",
    ")"
   ]
  },
  {
   "cell_type": "code",
   "execution_count": 536,
   "metadata": {},
   "outputs": [
    {
     "name": "stdout",
     "output_type": "stream",
     "text": [
      "Accuracy 0.5885167464114832\n"
     ]
    }
   ],
   "source": [
    "### combine transformer and randome forest classifier \n",
    "pred = Pipeline([\n",
    "    ('col_trans', column_tranformer),\n",
    "    ('classifier', DecisionTreeClassifier())\n",
    "])\n",
    "y_pred = pred.fit(X_train,y_train).predict(X_test)\n",
    "print('Accuracy',metrics.accuracy_score(y_test, y_pred))"
   ]
  },
  {
   "cell_type": "markdown",
   "metadata": {},
   "source": [
    "### Final Model"
   ]
  },
  {
   "cell_type": "code",
   "execution_count": 368,
   "metadata": {},
   "outputs": [
    {
     "data": {
      "text/plain": [
       "dict_keys(['memory', 'steps', 'verbose', 'col_trans', 'classifier', 'col_trans__n_jobs', 'col_trans__remainder', 'col_trans__sparse_threshold', 'col_trans__transformer_weights', 'col_trans__transformers', 'col_trans__verbose', 'col_trans__verbose_feature_names_out', 'col_trans__std', 'col_trans__sbg', 'col_trans__ordi', 'col_trans__ohh', 'col_trans__std__copy', 'col_trans__std__with_mean', 'col_trans__std__with_std', 'col_trans__ordi__categories', 'col_trans__ordi__dtype', 'col_trans__ordi__handle_unknown', 'col_trans__ordi__unknown_value', 'col_trans__ohh__categories', 'col_trans__ohh__drop', 'col_trans__ohh__dtype', 'col_trans__ohh__handle_unknown', 'col_trans__ohh__sparse', 'classifier__ccp_alpha', 'classifier__class_weight', 'classifier__criterion', 'classifier__max_depth', 'classifier__max_features', 'classifier__max_leaf_nodes', 'classifier__min_impurity_decrease', 'classifier__min_samples_leaf', 'classifier__min_samples_split', 'classifier__min_weight_fraction_leaf', 'classifier__random_state', 'classifier__splitter'])"
      ]
     },
     "execution_count": 368,
     "metadata": {},
     "output_type": "execute_result"
    }
   ],
   "source": [
    "pred.get_params().keys()"
   ]
  },
  {
   "cell_type": "code",
   "execution_count": 549,
   "metadata": {},
   "outputs": [],
   "source": [
    "# stdscalerbygroup\n",
    "from sklearn.base import BaseEstimator, TransformerMixin\n",
    "import numpy\n",
    "class StdScalerByGroup(BaseEstimator, TransformerMixin):\n",
    "\n",
    "    def __init__(self):\n",
    "        pass\n",
    "\n",
    "    def fit(self, X, y=None):\n",
    "        \"\"\"\n",
    "        :Example:\n",
    "        >>> cols = {'g': ['A', 'A', 'B', 'B'], 'c1': [1, 2, 2, 2], 'c2': [3, 1, 2, 0]}\n",
    "        >>> X = pd.DataFrame(cols)\n",
    "        >>> std = StdScalerByGroup().fit(X)\n",
    "        >>> std.grps_ is not None\n",
    "        True\n",
    "        \"\"\"\n",
    "        # X might not be a pandas DataFrame (e.g. a np.array)\n",
    "        df = pd.DataFrame(X)\n",
    "\n",
    "        # Compute and store the means/standard-deviations for each column (e.g. 'c1' and 'c2'), \n",
    "        # for each group (e.g. 'A', 'B', 'C').  \n",
    "        # (Our solution uses a dictionary)\n",
    "        mean_values=df.groupby(df.columns[0]).mean().values\n",
    "        std_values=df.groupby(df.columns[0]).std().values\n",
    "        self.grps_ = {'mean': mean_values , 'std':std_values }\n",
    "        return self\n",
    "\n",
    "    def transform(self, X, y=None):\n",
    "        \"\"\"\n",
    "        :Example:\n",
    "        >>> cols = {'g': ['A', 'A', 'B', 'B'], 'c1': [1, 2, 3, 4], 'c2': [1, 2, 3, 4]}\n",
    "        >>> X = pd.DataFrame(cols)\n",
    "        >>> std = StdScalerByGroup().fit(X)\n",
    "        >>> out = std.transform(X)\n",
    "        >>> out.shape == (4, 2)\n",
    "        True\n",
    "        >>> np.isclose(out.abs(), 0.707107, atol=0.001).all().all()\n",
    "        True\n",
    "        \"\"\"\n",
    "\n",
    "        # Hint: Define a helper function here!\n",
    "        df=pd.DataFrame(X)\n",
    "    \n",
    "        res=pd.DataFrame()\n",
    "        first_col = df.columns[0]\n",
    "        unique_group=df[df.columns[0]].unique()\n",
    "\n",
    "  \n",
    "        \n",
    "        row=0\n",
    "        for i in unique_group:\n",
    "            col=0\n",
    "            \n",
    "            temp=df.loc[df[first_col]==i]\n",
    "            \n",
    "            data=temp.copy()\n",
    "            \n",
    "        \n",
    "            for j in temp.columns[1:].tolist():\n",
    "                tmean=self.grps_['mean'][row][col]\n",
    "                tstd=self.grps_['std'][row][col]\n",
    "                \n",
    "                data[j]=(temp[j]-tmean)/tstd\n",
    "                \n",
    "                col=col+1\n",
    "            \n",
    "            \n",
    "            data=data.drop(columns=data.columns[0])\n",
    "            row  = row +1\n",
    "        \n",
    "            res=pd.concat([res,data],ignore_index=True)\n",
    "            \n",
    "        return res\n"
   ]
  },
  {
   "cell_type": "code",
   "execution_count": 550,
   "metadata": {},
   "outputs": [
    {
     "data": {
      "text/plain": [
       "108653.0"
      ]
     },
     "execution_count": 550,
     "metadata": {},
     "output_type": "execute_result"
    }
   ],
   "source": [
    "## for ordinal encoder \n",
    "df['OUTAGE.DURATION'].max()\n",
    "ran = [[i for i in range(108654)]]"
   ]
  },
  {
   "cell_type": "code",
   "execution_count": 562,
   "metadata": {},
   "outputs": [],
   "source": [
    "## column transformers\n",
    "## make outage duration into ordinal\n",
    "\n",
    "column_tranformer = ColumnTransformer(\n",
    "    transformers = [\n",
    "#         ('std',StandardScaler(), ['ANOMALY.LEVEL']),\n",
    "        ('sbg',StdScalerByGroup(),['CLIMATE.REGION','OUTAGE.DURATION']),\n",
    "        ('ordi',OrdinalEncoder(categories = ran), ['OUTAGE.DURATION']),\n",
    "        ('ohh',OneHotEncoder(),['CLIMATE.CATEGORY', 'CLIMATE.REGION'])\n",
    "    ], remainder = 'passthrough'\n",
    ")"
   ]
  },
  {
   "cell_type": "code",
   "execution_count": 563,
   "metadata": {},
   "outputs": [
    {
     "name": "stdout",
     "output_type": "stream",
     "text": [
      "Accuracy 0.6196172248803827\n"
     ]
    }
   ],
   "source": [
    "pred = Pipeline([\n",
    "    ('col_trans', column_tranformer),\n",
    "    ('classifier', DecisionTreeClassifier(max_depth = 2))\n",
    "])\n",
    "y_pred = pred.fit(X_train,y_train).predict(X_test)\n",
    "print('Accuracy',metrics.accuracy_score(y_test, y_pred))"
   ]
  },
  {
   "cell_type": "code",
   "execution_count": 572,
   "metadata": {},
   "outputs": [],
   "source": [
    "## setting hyperparameters, \n",
    "hyperparameters = {\n",
    "    'classifier__max_depth': [3,5,7,10],\n",
    "    'classifier__max_leaf_nodes' : [4,6,8,10,15,20]\n",
    "#     'classifier__max_depth': [i for i in np.arange(5,1300,100)]\n",
    "#     'classifier__class_weight': [{0: 1, 1: 1}, {0: 1, 1|: 5}, {0: 1, 1: 1}, {0: 1, 1: 1},None]\n",
    "    \n",
    "}"
   ]
  },
  {
   "cell_type": "code",
   "execution_count": 573,
   "metadata": {},
   "outputs": [
    {
     "data": {
      "text/plain": [
       "{'classifier__max_depth': 7, 'classifier__max_leaf_nodes': 10}"
      ]
     },
     "execution_count": 573,
     "metadata": {},
     "output_type": "execute_result"
    }
   ],
   "source": [
    "from sklearn.model_selection import GridSearchCV\n",
    "# pred.fit(X_train,y_train)\n",
    "grids = GridSearchCV(pred, param_grid = hyperparameters, cv=5)\n",
    "grids.fit(X_train,y_train)\n",
    "grids.best_params_"
   ]
  },
  {
   "cell_type": "code",
   "execution_count": 575,
   "metadata": {},
   "outputs": [
    {
     "name": "stdout",
     "output_type": "stream",
     "text": [
      "Accuracy 0.6555023923444976\n"
     ]
    }
   ],
   "source": [
    "pred.set_params(classifier__max_depth = 7)\n",
    "pred.set_params(classifier__max_leaf_nodes = 10)\n",
    "y_pred = pred.fit(X_train,y_train).predict(X_test)\n",
    "print('Accuracy',metrics.accuracy_score(y_test, y_pred))"
   ]
  },
  {
   "cell_type": "markdown",
   "metadata": {},
   "source": [
    "### Fairness Evaluation"
   ]
  },
  {
   "cell_type": "code",
   "execution_count": null,
   "metadata": {},
   "outputs": [],
   "source": [
    "# TODO"
   ]
  }
 ],
 "metadata": {
  "kernelspec": {
   "display_name": "Python 3 (ipykernel)",
   "language": "python",
   "name": "python3"
  },
  "language_info": {
   "codemirror_mode": {
    "name": "ipython",
    "version": 3
   },
   "file_extension": ".py",
   "mimetype": "text/x-python",
   "name": "python",
   "nbconvert_exporter": "python",
   "pygments_lexer": "ipython3",
   "version": "3.9.12"
  }
 },
 "nbformat": 4,
 "nbformat_minor": 2
}
